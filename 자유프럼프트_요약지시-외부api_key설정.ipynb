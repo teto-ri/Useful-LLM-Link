{
 "cells": [
  {
   "cell_type": "code",
   "execution_count": 17,
   "id": "a8aed672",
   "metadata": {},
   "outputs": [],
   "source": [
    "import os\n",
    "# print(os.environ[\"OPENAI_API_KEY\"])"
   ]
  },
  {
   "cell_type": "code",
   "execution_count": 18,
   "id": "c0dce5b9",
   "metadata": {},
   "outputs": [],
   "source": [
    "from langchain.chat_models import ChatOpenAI\n",
    "chatgpt = ChatOpenAI(model_name=\"gpt-3.5-turbo\", temperature=0)"
   ]
  },
  {
   "cell_type": "code",
   "execution_count": 19,
   "id": "97951cdf",
   "metadata": {},
   "outputs": [
    {
     "data": {
      "text/plain": [
       "AIMessage(content='저는 랭체인을 사랑합니다.', additional_kwargs={}, example=False)"
      ]
     },
     "execution_count": 19,
     "metadata": {},
     "output_type": "execute_result"
    }
   ],
   "source": [
    "from langchain.chat_models import ChatOpenAI\n",
    "from langchain.schema import AIMessage, HumanMessage, SystemMessage\n",
    "\n",
    "# chatgpt = ChatOpenAI(model_name=\"gpt-3.5-turbo\", temperature = 0)\n",
    "\n",
    "messages = [\n",
    "    SystemMessage(\n",
    "        content=\"You are a helpful assistant that translates English to Korean.\"\n",
    "    ),\n",
    "    HumanMessage(\n",
    "        content=\"I love langchain.\"\n",
    "    ),\n",
    "]\n",
    "response_langchain = chatgpt(messages)\n",
    "response_langchain"
   ]
  },
  {
   "cell_type": "code",
   "execution_count": 20,
   "id": "8b2fed90",
   "metadata": {},
   "outputs": [],
   "source": [
    "content_text=\"NewJeans뉴진스왼쪽부터 하니, 다니엘, 민지, 혜인, 해린기본 정보결성 지역대한민국 서울특별시장르K-pop댄스 팝활동 시기2022년 7월 22일 ~레이블하이브소속사어도어웹사이트newjeans.kr 구성원민지하니다니엘해린혜인 NewJeans(뉴진스)는 2022년 7월 22일에 데뷔한 대한민국의 5인조 걸 그룹으로, 소속사는 하이브 산하의 레이블인 어도어이다. SM 엔터테인먼트 비주얼 디렉터 출신으로 하이브에 영입된 민희진이 프로듀서로 나서서 발굴한 걸 그룹이다. 2022년 8월 18일에 《엠카운트다운》에서 데뷔 3주만에 첫 1위에 올랐다. 2023년 8월에 잼버리 폐회식 K-POP 공연에 출연했다.\""
   ]
  },
  {
   "cell_type": "code",
   "execution_count": 21,
   "id": "e4ba1b9d",
   "metadata": {},
   "outputs": [
    {
     "data": {
      "text/plain": [
       "AIMessage(content='NewJeans(뉴진스)는 2022년 7월 22일에 데뷔한 대한민국의 5인조 걸 그룹으로, 소속사는 하이브 산하의 레이블인 어도어입니다. SM 엔터테인먼트 비주얼 디렉터 출신으로 하이브에 영입된 민희진이 프로듀서로 나서서 발굴한 걸 그룹입니다. 2022년 8월 18일에 《엠카운트다운》에서 데뷔 3주만에 첫 1위에 올랐습니다. 2023년 8월에 잼버리 폐회식 K-POP 공연에 출연했습니다.', additional_kwargs={}, example=False)"
      ]
     },
     "execution_count": 21,
     "metadata": {},
     "output_type": "execute_result"
    }
   ],
   "source": [
    "from langchain.chat_models import ChatOpenAI\n",
    "from langchain.schema import AIMessage, HumanMessage, SystemMessage\n",
    "\n",
    "# chatgpt = ChatOpenAI(model_name=\"gpt-3.5-turbo\", temperature = 0)\n",
    "\n",
    "messages = [\n",
    "    SystemMessage(\n",
    "        content=\"3줄로 요약해서 한국어 존대말로 답변해 주세요.\"\n",
    "    ),\n",
    "    HumanMessage(\n",
    "        content=content_text\n",
    "    ),\n",
    "]\n",
    "response_langchain = chatgpt(messages)\n",
    "response_langchain"
   ]
  },
  {
   "cell_type": "code",
   "execution_count": 22,
   "id": "96faa152",
   "metadata": {},
   "outputs": [
    {
     "data": {
      "text/plain": [
       "AIMessage(content='NewJeans(뉴진스)는 2022년 7월 22일에 데뷔한 대한민국의 5인조 걸 그룹으로, 소속사는 하이브 산하의 레이블인 어도어이다. 그들은 2022년 8월 18일에 엠카운트다운에서 데뷔 3주만에 첫 1위를 차지했으며, 2023년 8월에는 잼버리 폐회식 K-POP 공연에 출연했다.', additional_kwargs={}, example=False)"
      ]
     },
     "execution_count": 22,
     "metadata": {},
     "output_type": "execute_result"
    }
   ],
   "source": [
    "from langchain.chat_models import ChatOpenAI\n",
    "from langchain.schema import AIMessage, HumanMessage, SystemMessage\n",
    "\n",
    "# chatgpt = ChatOpenAI(model_name=\"gpt-3.5-turbo\", temperature = 0)\n",
    "\n",
    "messages = [\n",
    "    SystemMessage(\n",
    "        content=\"3줄로 요약해서 한국어로 답변해 주세요.\"\n",
    "    ),\n",
    "    HumanMessage(\n",
    "        content=content_text\n",
    "    ),\n",
    "]\n",
    "response_langchain = chatgpt(messages)\n",
    "response_langchain"
   ]
  },
  {
   "cell_type": "code",
   "execution_count": 16,
   "id": "8d6302d2",
   "metadata": {},
   "outputs": [
    {
     "data": {
      "text/plain": [
       "AIMessage(content=\"NewJeans is a 5-member girl group from South Korea that debuted on July 22, 2022, under the label HIVE's subsidiary, ADOR. They were discovered by Min Hee-jin, a former visual director at SM Entertainment who joined HIVE as a producer. They achieved their first win on M Countdown just three weeks after their debut. They also performed at the Jamferry Closing Ceremony K-POP concert in August 2023.\", additional_kwargs={}, example=False)"
      ]
     },
     "execution_count": 16,
     "metadata": {},
     "output_type": "execute_result"
    }
   ],
   "source": [
    "from langchain.chat_models import ChatOpenAI\n",
    "from langchain.schema import AIMessage, HumanMessage, SystemMessage\n",
    "\n",
    "# chatgpt = ChatOpenAI(model_name=\"gpt-3.5-turbo\", temperature = 0)\n",
    "\n",
    "messages = [\n",
    "    SystemMessage(\n",
    "        content=\"3줄로 요약해 주세요.\"\n",
    "    ),\n",
    "    HumanMessage(\n",
    "        content=content_text\n",
    "    ),\n",
    "]\n",
    "response_langchain = chatgpt(messages)\n",
    "response_langchain"
   ]
  }
 ],
 "metadata": {
  "kernelspec": {
   "display_name": "Python 3 (ipykernel)",
   "language": "python",
   "name": "python3"
  },
  "language_info": {
   "codemirror_mode": {
    "name": "ipython",
    "version": 3
   },
   "file_extension": ".py",
   "mimetype": "text/x-python",
   "name": "python",
   "nbconvert_exporter": "python",
   "pygments_lexer": "ipython3",
   "version": "3.10.9"
  }
 },
 "nbformat": 4,
 "nbformat_minor": 5
}
