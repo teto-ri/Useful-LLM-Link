{
 "cells": [
  {
   "cell_type": "code",
   "execution_count": 46,
   "id": "bd409753",
   "metadata": {},
   "outputs": [],
   "source": [
    "from langchain.embeddings import OpenAIEmbeddings\n",
    "from langchain.vectorstores import Chroma\n",
    "from langchain.chat_models import ChatOpenAI\n",
    "from langchain.prompts import PromptTemplate\n",
    "from langchain.schema.runnable import RunnablePassthrough\n",
    "from langchain.chat_models import ChatOpenAI"
   ]
  },
  {
   "cell_type": "code",
   "execution_count": 32,
   "id": "bf3044a8",
   "metadata": {},
   "outputs": [
    {
     "name": "stdout",
     "output_type": "stream",
     "text": [
      "name='langchain' id=UUID('69127322-10ed-4dc1-876e-8968a7397e0f') metadata=None\n"
     ]
    }
   ],
   "source": [
    "import chromadb\n",
    "varRagDir=\"db11\"\n",
    "client = chromadb.PersistentClient(path=varRagDir)\n",
    "client.list_collections()\n",
    "collection = client.get_collection(\"langchain\")\n",
    "print(collection)"
   ]
  },
  {
   "cell_type": "code",
   "execution_count": 33,
   "id": "30b466c3",
   "metadata": {},
   "outputs": [
    {
     "data": {
      "text/plain": [
       "12"
      ]
     },
     "execution_count": 33,
     "metadata": {},
     "output_type": "execute_result"
    }
   ],
   "source": [
    "collection.count()\n"
   ]
  },
  {
   "cell_type": "code",
   "execution_count": 41,
   "id": "7c29dc11",
   "metadata": {},
   "outputs": [
    {
     "name": "stderr",
     "output_type": "stream",
     "text": [
      "D:\\myproject\\lib\\site-packages\\langchain\\embeddings\\openai.py:217: UserWarning: WARNING! temperature is not default parameter.\n",
      "                    temperature was transferred to model_kwargs.\n",
      "                    Please confirm that temperature is what you intended.\n",
      "  warnings.warn(\n"
     ]
    }
   ],
   "source": [
    "vectorstore = Chroma(persist_directory = varRagDir  , \n",
    "        embedding_function = \n",
    "        OpenAIEmbeddings(temperature=0\n",
    "\n",
    "            )\n",
    "        )\n",
    "retriever = vectorstore.as_retriever()"
   ]
  },
  {
   "cell_type": "code",
   "execution_count": 42,
   "id": "7e9f4c4a",
   "metadata": {},
   "outputs": [
    {
     "name": "stdout",
     "output_type": "stream",
     "text": [
      "4\n"
     ]
    }
   ],
   "source": [
    "print(len(vectorstore._collection.get(ids=0)) )"
   ]
  },
  {
   "cell_type": "code",
   "execution_count": 43,
   "id": "1f22675c",
   "metadata": {},
   "outputs": [
    {
     "name": "stdout",
     "output_type": "stream",
     "text": [
      "12\n"
     ]
    }
   ],
   "source": [
    "print(vectorstore._collection.count())"
   ]
  },
  {
   "cell_type": "code",
   "execution_count": 44,
   "id": "ad40b4cf",
   "metadata": {},
   "outputs": [
    {
     "name": "stdout",
     "output_type": "stream",
     "text": [
      "[Document(page_content='- 1 -과학기술정보통신부 공고 제2024-0128 호\\n2024년도 과학기술정보통신부 「AI바우처 지원사업 」공고\\n과학기술정보통신부와 정보통신산업진흥원은 AI를 적용하고자 하는 \\n수요기업 (중소․중견기업 ,의료기관 ,소상공인 등)이 단기간 내에 최적의 AI를 \\n도입할 수 있도록 지원하고 ,인공지능 솔루션을 개발한 공급기업 (국내 \\nAI솔루션기업 )에게는 새로운 시장 창출의 기회를 제공하는 『2024년 AI\\n바우처 지원』사업의 신규과제를 모집하오니 많은 신청과 참여바랍니다 .\\n2024년 2월 16일\\n과학기술정보통신부장관\\n정보통신산업진흥원장\\n 1. 사업개요\\n□사 업 명 :2024년 AI바우처 지원\\n□사업목적 :AI제품·서비스 (이하‘AI솔루션 ’)적용이 필요한 수요기업에게 \\n바우처를 지급하고 ,수요기업은 바우처를 활용하여 원하는 AI솔루션 \\n기업(이하‘공급기업 ’)으로부터 구매·활용함으로써 디지털 전환 촉진\\n 2. 사업내용', metadata={'page': 0, 'source': '04 (공고문) 2024년 AI바우처 지원사업(5개분과) 과제 공고_제2024-0128호 (1).pdf'}), Document(page_content='붙  임 :2024년 AI바우처 지원사업 분과별 공모안내서 각 1부.', metadata={'page': 2, 'source': '04 (공고문) 2024년 AI바우처 지원사업(5개분과) 과제 공고_제2024-0128호 (1).pdf'}), Document(page_content='- 2 -□(지원내용 )정부(NIPA)가 수요기업에게는 AI솔루션을 구매할 수 있는 \\n최대 2억원의 바우처를 지급하고 ,공급기업에게는 판매한 AI솔루션에 \\n대한 대금 지급\\n   * 분과별 세부 지원내용은 반드시 해당분과 공모안내서 확인 필수\\n□(지원분과 )일반분과 (모든 산업 분야),의료분과 ,AI반도체분과 ,소상공\\n인분과 ,글로벌분과 등 총 5개 분과 \\n□(지원기간 )2024.05.01. ~2024.11.30.(7 개월)\\n□(지원금액 )과제당 최대 2억원 한도\\n    * 과제 선정 후 사업비심의 결과에 따라 과제별로 차등 지급될 수 있음\\n□(민간매칭 )사업에 참여하는 수요 및 공급기업은 총사업비 중 정부지\\n원금을 제외한 비용에 대해 민간매칭 (현금,현물)을 하여야 함\\n   * 분과별 세부 민간매칭 방법/비용은 반드시 해당분과 공모안내서 확인 필수\\n 3. 신청방법 및 신청기간\\n□신청방법 :정보통신산업진흥원 사업관리시스템 (SMART) 을 통해 접수', metadata={'page': 1, 'source': '04 (공고문) 2024년 AI바우처 지원사업(5개분과) 과제 공고_제2024-0128호 (1).pdf'}), Document(page_content='- 3 -□(신청기간 )공고일 ~2024.02.28.( 수)15:00\\n□(제출방법 )AI바우처 지원사업 공급기업 Pool모집 공고[붙임4]확인 후\\n신규/변경 신청서를 이메일 (ai-voucher@nipa.kr) 제출\\n 5. 사업설명회\\n□사업설명회 개최\\n-일시 :2024.02.26.( 월)14:00 ~17:00\\n-장소 :수원컨벤션센터 3층 컨벤션홀 (수원시 영통구 광교중앙로 140)\\n    ※ 사전등록은 불필요하며 현장등록 가능\\n 6. 관련규정\\n□정보통신진흥기금 운용·관리규정 및 부속지침\\n 7. 문의처\\n구분 연락처\\n사업관련 문의처1544-3816, ai-voucher@nipa.kr\\n * 5개 분과별 공모안내서의 담당자에게 문의\\n시스템관련 문의처 070-5151-8239, smart@nipa.kr\\n   * “시스템관련 문의처 ”는 전산접수시스템 (SMART 시스템 ) 사용과 관련된 문의만 가능하며 , \\n사업관련 문의는 반드시 “사업관련 문의처 ”로 문의 바랍니다 .', metadata={'page': 2, 'source': '04 (공고문) 2024년 AI바우처 지원사업(5개분과) 과제 공고_제2024-0128호 (1).pdf'})]\n"
     ]
    }
   ],
   "source": [
    "query=\"AI바우쳐가 뭐에요?\"\n",
    "docs1 = vectorstore.similarity_search(query)\n",
    "print(docs1)"
   ]
  },
  {
   "cell_type": "code",
   "execution_count": 48,
   "id": "775d4599",
   "metadata": {},
   "outputs": [],
   "source": [
    "llm = ChatOpenAI(model_name=\"gpt-3.5-turbo\", \n",
    "                 temperature=0, \n",
    "                \n",
    "                )\n",
    "\n",
    "template = \"\"\" \n",
    "학습된 문서내에서 존대말로 답변해 주세요 학습된 문서내의 질문이 아니면 '질문하신 내용은 업무와 관련이 없습니다. '라고 대답해 주세요\n",
    "{context}\n",
    "Question: {question}\n",
    "Answer:\"\"\"\n",
    "\n",
    "prompt = PromptTemplate.from_template(template)\n",
    "\n",
    "qa_chain = (\n",
    "    {\"context\": retriever, \"question\": RunnablePassthrough()} \n",
    "    | prompt \n",
    "    | llm \n",
    ")"
   ]
  },
  {
   "cell_type": "code",
   "execution_count": 49,
   "id": "580803df",
   "metadata": {},
   "outputs": [
    {
     "name": "stdout",
     "output_type": "stream",
     "text": [
      "AI바우처는 AI를 적용하고자 하는 수요기업에게 최적의 AI를 도입할 수 있도록 지원하고, 인공지능 솔루션을 개발한 공급기업에게는 새로운 시장 창출의 기회를 제공하는 사업의 일환으로, 정부(NIPA)가 수요기업에게 최대 2억원의 바우처를 지급하여 AI솔루션을 구매할 수 있도록 돕는 제도입니다.\n"
     ]
    }
   ],
   "source": [
    "question=\"AI바우처가 뭐예요?\"\n",
    "result = qa_chain.invoke(question).content   \n",
    "print(result)"
   ]
  },
  {
   "cell_type": "code",
   "execution_count": 50,
   "id": "cf34cf64",
   "metadata": {},
   "outputs": [
    {
     "name": "stdout",
     "output_type": "stream",
     "text": [
      "블록체인 컨설팅 지원사업은 산업 전반에서 블록체인 기술을 도입하고자 하는 기업이나 기관, 블록체인 기술을 활용하여 비즈니스를 하는 기업, 그리고 글로벌 시장에 진출하고자 하는 기업에 맞춤형 컨설팅을 제공하는 사업입니다. 이를 통해 블록체인 기술의 안정적인 성장과 글로벌 시장 진출을 지원하고자 합니다.\n"
     ]
    }
   ],
   "source": [
    "question=\"블록체인 컨설팅 지원사업이 뭐예요?\"\n",
    "result = qa_chain.invoke(question).content   \n",
    "print(result)"
   ]
  },
  {
   "cell_type": "code",
   "execution_count": null,
   "id": "8cb9aab7",
   "metadata": {},
   "outputs": [],
   "source": []
  }
 ],
 "metadata": {
  "kernelspec": {
   "display_name": "Python 3 (ipykernel)",
   "language": "python",
   "name": "python3"
  },
  "language_info": {
   "codemirror_mode": {
    "name": "ipython",
    "version": 3
   },
   "file_extension": ".py",
   "mimetype": "text/x-python",
   "name": "python",
   "nbconvert_exporter": "python",
   "pygments_lexer": "ipython3",
   "version": "3.10.9"
  }
 },
 "nbformat": 4,
 "nbformat_minor": 5
}
